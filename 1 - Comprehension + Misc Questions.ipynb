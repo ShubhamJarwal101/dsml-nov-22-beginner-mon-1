{
 "cells": [
  {
   "cell_type": "code",
   "execution_count": 2,
   "id": "69426403",
   "metadata": {},
   "outputs": [
    {
     "data": {
      "text/plain": [
       "'\\nQuestion 1 - \\nCreate a list of squares of all numbers from 1 to 10.\\n\\nOutput - [1, 4, 9, 16, 25....100]\\n'"
      ]
     },
     "execution_count": 2,
     "metadata": {},
     "output_type": "execute_result"
    }
   ],
   "source": [
    "'''\n",
    "Question 1 - \n",
    "Create a list of squares of all numbers from 1 to 10.\n",
    "\n",
    "Output - [1, 4, 9, 16, 25....100]\n",
    "'''"
   ]
  },
  {
   "cell_type": "code",
   "execution_count": 3,
   "id": "63e8c58e",
   "metadata": {},
   "outputs": [],
   "source": [
    "result = []\n",
    "\n",
    "for i in range(1,11):\n",
    "    result.append(i**2)"
   ]
  },
  {
   "cell_type": "code",
   "execution_count": 4,
   "id": "0112264b",
   "metadata": {},
   "outputs": [
    {
     "data": {
      "text/plain": [
       "[1, 4, 9, 16, 25, 36, 49, 64, 81, 100]"
      ]
     },
     "execution_count": 4,
     "metadata": {},
     "output_type": "execute_result"
    }
   ],
   "source": [
    "result"
   ]
  },
  {
   "cell_type": "code",
   "execution_count": 7,
   "id": "a9e6d8aa",
   "metadata": {},
   "outputs": [],
   "source": [
    "result1 = [ i**2 for i in range(1,11) ]"
   ]
  },
  {
   "cell_type": "code",
   "execution_count": 8,
   "id": "7b97516f",
   "metadata": {},
   "outputs": [
    {
     "data": {
      "text/plain": [
       "[1, 4, 9, 16, 25, 36, 49, 64, 81, 100]"
      ]
     },
     "execution_count": 8,
     "metadata": {},
     "output_type": "execute_result"
    }
   ],
   "source": [
    "result1"
   ]
  },
  {
   "cell_type": "code",
   "execution_count": 10,
   "id": "a5140e66",
   "metadata": {},
   "outputs": [
    {
     "data": {
      "text/plain": [
       "'\\nQuestion 2 - \\nGiven an input list of ages, create a new list telling whether that person is above 18 or under.\\n\\nINPUT - [24, 45, 15, 12, 10, 19, 17, 20]\\nOUTPUT - [True, True, False, False, False, True, False, True]\\n\\nNOTE - False for 18 as well.\\n'"
      ]
     },
     "execution_count": 10,
     "metadata": {},
     "output_type": "execute_result"
    }
   ],
   "source": [
    "'''\n",
    "Question 2 - \n",
    "Given an input list of ages, create a new list telling whether that person is above 18 or under.\n",
    "\n",
    "INPUT - [24, 45, 15, 12, 10, 19, 17, 20]\n",
    "OUTPUT - [True, True, False, False, False, True, False, True]\n",
    "\n",
    "NOTE - False for 18 as well.\n",
    "'''"
   ]
  },
  {
   "cell_type": "code",
   "execution_count": 11,
   "id": "984fedc2",
   "metadata": {},
   "outputs": [],
   "source": [
    "A = [24, 45, 15, 12, 10, 19, 17, 20]"
   ]
  },
  {
   "cell_type": "code",
   "execution_count": 14,
   "id": "1b031c5e",
   "metadata": {},
   "outputs": [],
   "source": [
    "# Approach 1\n",
    "\n",
    "result1 = []\n",
    "\n",
    "for i in A:\n",
    "    if i <= 18:\n",
    "        result1.append(False)\n",
    "    else:\n",
    "        result1.append(True)"
   ]
  },
  {
   "cell_type": "code",
   "execution_count": 15,
   "id": "e32ef495",
   "metadata": {},
   "outputs": [
    {
     "data": {
      "text/plain": [
       "[True, True, False, False, False, True, False, True]"
      ]
     },
     "execution_count": 15,
     "metadata": {},
     "output_type": "execute_result"
    }
   ],
   "source": [
    "result1"
   ]
  },
  {
   "cell_type": "code",
   "execution_count": 17,
   "id": "b5857532",
   "metadata": {},
   "outputs": [],
   "source": [
    "# Approach 1 Optimised\n",
    "\n",
    "result1 = []\n",
    "\n",
    "for i in A:\n",
    "    result1.append(i > 18)"
   ]
  },
  {
   "cell_type": "code",
   "execution_count": 18,
   "id": "51a2cdde",
   "metadata": {},
   "outputs": [
    {
     "data": {
      "text/plain": [
       "[True, True, False, False, False, True, False, True]"
      ]
     },
     "execution_count": 18,
     "metadata": {},
     "output_type": "execute_result"
    }
   ],
   "source": [
    "result1"
   ]
  },
  {
   "cell_type": "code",
   "execution_count": 19,
   "id": "6a49e251",
   "metadata": {},
   "outputs": [],
   "source": [
    "# Approach 2\n",
    "\n",
    "result2 = [ i > 18 for i in A ]"
   ]
  },
  {
   "cell_type": "code",
   "execution_count": 20,
   "id": "e283b8e9",
   "metadata": {},
   "outputs": [
    {
     "data": {
      "text/plain": [
       "[True, True, False, False, False, True, False, True]"
      ]
     },
     "execution_count": 20,
     "metadata": {},
     "output_type": "execute_result"
    }
   ],
   "source": [
    "result2"
   ]
  },
  {
   "cell_type": "code",
   "execution_count": 21,
   "id": "7ec32571",
   "metadata": {},
   "outputs": [
    {
     "data": {
      "text/plain": [
       "'\\nQuestion 3 - \\n\\nWrite a one line python code to print the multiplication table from 1 to 10.\\n\\n1 2 3 4 5 6 7 8 9 10\\n2 4 6 8 10 12 14 16 18 20\\n.\\n.\\n.\\n.\\n.\\n10 20 30 40 50 60 70 80 90 100\\n'"
      ]
     },
     "execution_count": 21,
     "metadata": {},
     "output_type": "execute_result"
    }
   ],
   "source": [
    "'''\n",
    "Question 3 - \n",
    "\n",
    "Write a one line python code to print the multiplication table from 1 to 10.\n",
    "\n",
    "1 2 3 4 5 6 7 8 9 10\n",
    "2 4 6 8 10 12 14 16 18 20\n",
    ".\n",
    ".\n",
    ".\n",
    ".\n",
    ".\n",
    "10 20 30 40 50 60 70 80 90 100\n",
    "'''"
   ]
  },
  {
   "cell_type": "code",
   "execution_count": 22,
   "id": "a63a4cb3",
   "metadata": {},
   "outputs": [],
   "source": [
    "mul_table = [ [ i*j for j in range(1,11) ] for i in range(1,11) ]"
   ]
  },
  {
   "cell_type": "code",
   "execution_count": 23,
   "id": "562c5c65",
   "metadata": {},
   "outputs": [
    {
     "data": {
      "text/plain": [
       "[[1, 2, 3, 4, 5, 6, 7, 8, 9, 10],\n",
       " [2, 4, 6, 8, 10, 12, 14, 16, 18, 20],\n",
       " [3, 6, 9, 12, 15, 18, 21, 24, 27, 30],\n",
       " [4, 8, 12, 16, 20, 24, 28, 32, 36, 40],\n",
       " [5, 10, 15, 20, 25, 30, 35, 40, 45, 50],\n",
       " [6, 12, 18, 24, 30, 36, 42, 48, 54, 60],\n",
       " [7, 14, 21, 28, 35, 42, 49, 56, 63, 70],\n",
       " [8, 16, 24, 32, 40, 48, 56, 64, 72, 80],\n",
       " [9, 18, 27, 36, 45, 54, 63, 72, 81, 90],\n",
       " [10, 20, 30, 40, 50, 60, 70, 80, 90, 100]]"
      ]
     },
     "execution_count": 23,
     "metadata": {},
     "output_type": "execute_result"
    }
   ],
   "source": [
    "mul_table"
   ]
  },
  {
   "cell_type": "code",
   "execution_count": 25,
   "id": "4f45a616",
   "metadata": {},
   "outputs": [],
   "source": [
    "mul_table = []\n",
    "\n",
    "for i in range(1,11):\n",
    "    row = []\n",
    "    \n",
    "    for j in range(1,11):\n",
    "        row.append(i*j)\n",
    "        \n",
    "    mul_table.append(row)"
   ]
  },
  {
   "cell_type": "code",
   "execution_count": 26,
   "id": "4a2bb0ee",
   "metadata": {},
   "outputs": [
    {
     "data": {
      "text/plain": [
       "[[1, 2, 3, 4, 5, 6, 7, 8, 9, 10],\n",
       " [2, 4, 6, 8, 10, 12, 14, 16, 18, 20],\n",
       " [3, 6, 9, 12, 15, 18, 21, 24, 27, 30],\n",
       " [4, 8, 12, 16, 20, 24, 28, 32, 36, 40],\n",
       " [5, 10, 15, 20, 25, 30, 35, 40, 45, 50],\n",
       " [6, 12, 18, 24, 30, 36, 42, 48, 54, 60],\n",
       " [7, 14, 21, 28, 35, 42, 49, 56, 63, 70],\n",
       " [8, 16, 24, 32, 40, 48, 56, 64, 72, 80],\n",
       " [9, 18, 27, 36, 45, 54, 63, 72, 81, 90],\n",
       " [10, 20, 30, 40, 50, 60, 70, 80, 90, 100]]"
      ]
     },
     "execution_count": 26,
     "metadata": {},
     "output_type": "execute_result"
    }
   ],
   "source": [
    "mul_table"
   ]
  },
  {
   "cell_type": "code",
   "execution_count": 27,
   "id": "12495114",
   "metadata": {},
   "outputs": [],
   "source": [
    "result = [ i*j for j in range(1,11) for i in range(1,11) ]"
   ]
  },
  {
   "cell_type": "code",
   "execution_count": 29,
   "id": "898625bc",
   "metadata": {},
   "outputs": [],
   "source": [
    "# result"
   ]
  },
  {
   "cell_type": "code",
   "execution_count": 34,
   "id": "682e4128",
   "metadata": {},
   "outputs": [],
   "source": [
    "result = [ (i, j) for j in [1, 2] for i in [\"A\", \"B\"] ] \n",
    "# Outermost loop is at the left and we go to innermost towards the right\n",
    "\n",
    "# OUTPUT\n",
    "# [(\"A\", 1), (\"A\", 2), (\"B\", 1), (\"B\", 2)]"
   ]
  },
  {
   "cell_type": "code",
   "execution_count": 35,
   "id": "30263015",
   "metadata": {},
   "outputs": [
    {
     "data": {
      "text/plain": [
       "[('A', 1), ('B', 1), ('A', 2), ('B', 2)]"
      ]
     },
     "execution_count": 35,
     "metadata": {},
     "output_type": "execute_result"
    }
   ],
   "source": [
    "result"
   ]
  },
  {
   "cell_type": "code",
   "execution_count": 36,
   "id": "80fc9ae8",
   "metadata": {},
   "outputs": [],
   "source": [
    "s1 = { i for i in range(1,6) }"
   ]
  },
  {
   "cell_type": "code",
   "execution_count": 37,
   "id": "a73976ee",
   "metadata": {},
   "outputs": [
    {
     "data": {
      "text/plain": [
       "{1, 2, 3, 4, 5}"
      ]
     },
     "execution_count": 37,
     "metadata": {},
     "output_type": "execute_result"
    }
   ],
   "source": [
    "s1"
   ]
  },
  {
   "cell_type": "code",
   "execution_count": 46,
   "id": "f5e94b43",
   "metadata": {},
   "outputs": [],
   "source": [
    "d1 = { f\"value - {i}\" : i for i in range(1, 6) }"
   ]
  },
  {
   "cell_type": "code",
   "execution_count": 39,
   "id": "9a9c9423",
   "metadata": {},
   "outputs": [
    {
     "data": {
      "text/plain": [
       "{'value - 1': 1,\n",
       " 'value - 2': 2,\n",
       " 'value - 3': 3,\n",
       " 'value - 4': 4,\n",
       " 'value - 5': 5}"
      ]
     },
     "execution_count": 39,
     "metadata": {},
     "output_type": "execute_result"
    }
   ],
   "source": [
    "d1"
   ]
  },
  {
   "cell_type": "code",
   "execution_count": 47,
   "id": "d0a72596",
   "metadata": {},
   "outputs": [],
   "source": [
    "d2 = { i : i**2 for i in range(1, 6) }"
   ]
  },
  {
   "cell_type": "code",
   "execution_count": 48,
   "id": "8cf6869f",
   "metadata": {},
   "outputs": [
    {
     "data": {
      "text/plain": [
       "{1: 1, 2: 4, 3: 9, 4: 16, 5: 25}"
      ]
     },
     "execution_count": 48,
     "metadata": {},
     "output_type": "execute_result"
    }
   ],
   "source": [
    "d2"
   ]
  },
  {
   "cell_type": "code",
   "execution_count": 40,
   "id": "0e954335",
   "metadata": {},
   "outputs": [],
   "source": [
    "t1 = ( i for i in range(1,11) )"
   ]
  },
  {
   "cell_type": "code",
   "execution_count": 42,
   "id": "1fbc649f",
   "metadata": {},
   "outputs": [
    {
     "data": {
      "text/plain": [
       "<generator object <genexpr> at 0x7fcdb91c6350>"
      ]
     },
     "execution_count": 42,
     "metadata": {},
     "output_type": "execute_result"
    }
   ],
   "source": [
    "t1 # we'll learn about generator objects later"
   ]
  },
  {
   "cell_type": "code",
   "execution_count": 43,
   "id": "010d2c46",
   "metadata": {},
   "outputs": [
    {
     "data": {
      "text/plain": [
       "(1, 2, 3, 4, 5, 6, 7, 8, 9, 10)"
      ]
     },
     "execution_count": 43,
     "metadata": {},
     "output_type": "execute_result"
    }
   ],
   "source": [
    "tuple(t1)"
   ]
  },
  {
   "cell_type": "code",
   "execution_count": 44,
   "id": "61f76eb0",
   "metadata": {},
   "outputs": [],
   "source": [
    "s1 = \"i for i in range(1, 11)\""
   ]
  },
  {
   "cell_type": "code",
   "execution_count": 45,
   "id": "d7578fb3",
   "metadata": {},
   "outputs": [
    {
     "data": {
      "text/plain": [
       "'i for i in range(1, 11)'"
      ]
     },
     "execution_count": 45,
     "metadata": {},
     "output_type": "execute_result"
    }
   ],
   "source": [
    "s1"
   ]
  },
  {
   "cell_type": "code",
   "execution_count": 58,
   "id": "0339ec73",
   "metadata": {},
   "outputs": [],
   "source": [
    "def coolest_pattern_ever(n):\n",
    "    for i in range(n):\n",
    "        for j in range(n):\n",
    "            print(max(i + 1, j + 1, n - i, n - j), end = \" \")\n",
    "        \n",
    "        print()"
   ]
  },
  {
   "cell_type": "code",
   "execution_count": 57,
   "id": "6ee11923",
   "metadata": {},
   "outputs": [
    {
     "name": "stdout",
     "output_type": "stream",
     "text": [
      "3 3 3 3 2 3 3 3 3 "
     ]
    }
   ],
   "source": [
    "coolest_pattern_ever(3)"
   ]
  },
  {
   "cell_type": "code",
   "execution_count": null,
   "id": "f3f36f6d",
   "metadata": {},
   "outputs": [],
   "source": []
  }
 ],
 "metadata": {
  "kernelspec": {
   "display_name": "Python 3 (ipykernel)",
   "language": "python",
   "name": "python3"
  },
  "language_info": {
   "codemirror_mode": {
    "name": "ipython",
    "version": 3
   },
   "file_extension": ".py",
   "mimetype": "text/x-python",
   "name": "python",
   "nbconvert_exporter": "python",
   "pygments_lexer": "ipython3",
   "version": "3.9.5"
  }
 },
 "nbformat": 4,
 "nbformat_minor": 5
}
