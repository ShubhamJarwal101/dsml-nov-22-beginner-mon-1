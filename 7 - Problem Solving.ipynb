{
 "cells": [
  {
   "cell_type": "code",
   "execution_count": 37,
   "id": "60d66abd",
   "metadata": {},
   "outputs": [],
   "source": [
    "def fibonacci_number(n):\n",
    "    if n < 0:\n",
    "        return \"Not Defined!\"\n",
    "    elif n == 0:\n",
    "        return 0\n",
    "    elif n == 1:\n",
    "        if 1 not in fibonacci_series:\n",
    "            fibonacci_series.append(1)\n",
    "            \n",
    "        return 1\n",
    "    elif n == 2:\n",
    "        if 1 not in fibonacci_series:\n",
    "            fibonacci_series.extend([1,1])  \n",
    "        \n",
    "        return 1\n",
    "    else:\n",
    "        number = fibonacci_number(n-1) + fibonacci_number(n-2)\n",
    "        \n",
    "        if number not in fibonacci_series:\n",
    "            fibonacci_series.append(number)\n",
    "            \n",
    "        return number"
   ]
  },
  {
   "cell_type": "code",
   "execution_count": 47,
   "id": "76cc5c9f",
   "metadata": {},
   "outputs": [],
   "source": [
    "fibonacci_series = [0]"
   ]
  },
  {
   "cell_type": "code",
   "execution_count": 48,
   "id": "cd57e385",
   "metadata": {},
   "outputs": [
    {
     "data": {
      "text/plain": [
       "55"
      ]
     },
     "execution_count": 48,
     "metadata": {},
     "output_type": "execute_result"
    }
   ],
   "source": [
    "fibonacci_number(10)"
   ]
  },
  {
   "cell_type": "code",
   "execution_count": 49,
   "id": "eaaf388b",
   "metadata": {},
   "outputs": [
    {
     "data": {
      "text/plain": [
       "[0, 1, 1, 2, 3, 5, 8, 13, 21, 34, 55]"
      ]
     },
     "execution_count": 49,
     "metadata": {},
     "output_type": "execute_result"
    }
   ],
   "source": [
    "fibonacci_series"
   ]
  },
  {
   "cell_type": "code",
   "execution_count": 50,
   "id": "a50fc67f",
   "metadata": {},
   "outputs": [
    {
     "data": {
      "text/plain": [
       "True"
      ]
     },
     "execution_count": 50,
     "metadata": {},
     "output_type": "execute_result"
    }
   ],
   "source": [
    "\"abc\" < \"zebra\""
   ]
  },
  {
   "cell_type": "code",
   "execution_count": 61,
   "id": "78ec82e2",
   "metadata": {},
   "outputs": [],
   "source": [
    "def binary_search(a, target):\n",
    "    start, end = 0, len(a) - 1\n",
    "    \n",
    "    while start <= end:\n",
    "        mid = (start + end) // 2\n",
    "        \n",
    "        if a[mid] == target:\n",
    "            return mid\n",
    "        elif a[mid] < target:\n",
    "            start = mid + 1\n",
    "        else:\n",
    "            end = mid - 1\n",
    "        \n",
    "    print(f\"start = {start}, end = {end}, mid = {mid}\")\n",
    "            \n",
    "    return start"
   ]
  },
  {
   "cell_type": "code",
   "execution_count": 62,
   "id": "ec2053aa",
   "metadata": {},
   "outputs": [],
   "source": [
    "a = [1,2,4,5,6,7,8,9,10]"
   ]
  },
  {
   "cell_type": "code",
   "execution_count": 63,
   "id": "bbf17f40",
   "metadata": {},
   "outputs": [
    {
     "name": "stdout",
     "output_type": "stream",
     "text": [
      "start = 2, end = 1, mid = 2\n"
     ]
    },
    {
     "data": {
      "text/plain": [
       "2"
      ]
     },
     "execution_count": 63,
     "metadata": {},
     "output_type": "execute_result"
    }
   ],
   "source": [
    "binary_search(a, 3)"
   ]
  },
  {
   "cell_type": "code",
   "execution_count": 64,
   "id": "a6e5e534",
   "metadata": {},
   "outputs": [],
   "source": [
    "a = [1,2,3,4,6,7,8,9,10]"
   ]
  },
  {
   "cell_type": "code",
   "execution_count": 65,
   "id": "cd706b97",
   "metadata": {},
   "outputs": [
    {
     "name": "stdout",
     "output_type": "stream",
     "text": [
      "start = 4, end = 3, mid = 3\n"
     ]
    },
    {
     "data": {
      "text/plain": [
       "4"
      ]
     },
     "execution_count": 65,
     "metadata": {},
     "output_type": "execute_result"
    }
   ],
   "source": [
    "binary_search(a, 5)"
   ]
  },
  {
   "cell_type": "code",
   "execution_count": 66,
   "id": "74f103f4",
   "metadata": {},
   "outputs": [],
   "source": [
    "a = [1,2,3,4,5,6,7,9,10]"
   ]
  },
  {
   "cell_type": "code",
   "execution_count": 67,
   "id": "0a0692f1",
   "metadata": {},
   "outputs": [
    {
     "name": "stdout",
     "output_type": "stream",
     "text": [
      "start = 7, end = 6, mid = 7\n"
     ]
    },
    {
     "data": {
      "text/plain": [
       "7"
      ]
     },
     "execution_count": 67,
     "metadata": {},
     "output_type": "execute_result"
    }
   ],
   "source": [
    "binary_search(a,8)"
   ]
  },
  {
   "cell_type": "code",
   "execution_count": 68,
   "id": "174afa04",
   "metadata": {},
   "outputs": [],
   "source": [
    "import math"
   ]
  },
  {
   "cell_type": "code",
   "execution_count": 69,
   "id": "1bc1fcd4",
   "metadata": {},
   "outputs": [
    {
     "data": {
      "text/plain": [
       "3628800"
      ]
     },
     "execution_count": 69,
     "metadata": {},
     "output_type": "execute_result"
    }
   ],
   "source": [
    "math.factorial(10)"
   ]
  },
  {
   "cell_type": "code",
   "execution_count": 70,
   "id": "e69e24d3",
   "metadata": {},
   "outputs": [],
   "source": [
    "def selection_sort(a):\n",
    "    for i in range(len(a) - 1):\n",
    "        current_min = i\n",
    "        \n",
    "        for j in range(i + 1, len(a)):\n",
    "            if a[j] < a[current_min]:\n",
    "                current_min = j\n",
    "        \n",
    "        if i != current_min:\n",
    "            a[i], a[current_min] = a[current_min], a[i]\n",
    "    \n",
    "    return a"
   ]
  },
  {
   "cell_type": "code",
   "execution_count": 71,
   "id": "fe5c9c44",
   "metadata": {},
   "outputs": [],
   "source": [
    "a = [\"chaithra\", \"bipin\", \"bheeshma\", \"gauri\", \"ravi\", \"akshay\", \"surendra\"]"
   ]
  },
  {
   "cell_type": "code",
   "execution_count": 72,
   "id": "2aa93d79",
   "metadata": {},
   "outputs": [
    {
     "data": {
      "text/plain": [
       "['akshay', 'bheeshma', 'bipin', 'chaithra', 'gauri', 'ravi', 'surendra']"
      ]
     },
     "execution_count": 72,
     "metadata": {},
     "output_type": "execute_result"
    }
   ],
   "source": [
    "selection_sort(a)"
   ]
  },
  {
   "cell_type": "code",
   "execution_count": 73,
   "id": "f39a6518",
   "metadata": {},
   "outputs": [
    {
     "data": {
      "text/plain": [
       "True"
      ]
     },
     "execution_count": 73,
     "metadata": {},
     "output_type": "execute_result"
    }
   ],
   "source": [
    "\"akshay\" < \"bipin\""
   ]
  },
  {
   "cell_type": "code",
   "execution_count": 74,
   "id": "61ade726",
   "metadata": {},
   "outputs": [],
   "source": [
    "a = [5,1,3,9,7,2,4]"
   ]
  },
  {
   "cell_type": "code",
   "execution_count": 75,
   "id": "66935d19",
   "metadata": {},
   "outputs": [],
   "source": [
    "a.sort()"
   ]
  },
  {
   "cell_type": "code",
   "execution_count": 76,
   "id": "48a9861f",
   "metadata": {},
   "outputs": [
    {
     "data": {
      "text/plain": [
       "[1, 2, 3, 4, 5, 7, 9]"
      ]
     },
     "execution_count": 76,
     "metadata": {},
     "output_type": "execute_result"
    }
   ],
   "source": [
    "a"
   ]
  },
  {
   "cell_type": "code",
   "execution_count": 77,
   "id": "24cad977",
   "metadata": {},
   "outputs": [
    {
     "data": {
      "text/plain": [
       "[1, 2, 3, 4, 5, 7, 9]"
      ]
     },
     "execution_count": 77,
     "metadata": {},
     "output_type": "execute_result"
    }
   ],
   "source": [
    "a"
   ]
  },
  {
   "cell_type": "code",
   "execution_count": 78,
   "id": "f8a76d24",
   "metadata": {},
   "outputs": [],
   "source": [
    "a = [5,1,3,9,7,2,4]"
   ]
  },
  {
   "cell_type": "code",
   "execution_count": 79,
   "id": "9260f9f1",
   "metadata": {},
   "outputs": [
    {
     "data": {
      "text/plain": [
       "[1, 2, 3, 4, 5, 7, 9]"
      ]
     },
     "execution_count": 79,
     "metadata": {},
     "output_type": "execute_result"
    }
   ],
   "source": [
    "sorted(a)"
   ]
  },
  {
   "cell_type": "code",
   "execution_count": 80,
   "id": "fbbf0b65",
   "metadata": {},
   "outputs": [
    {
     "data": {
      "text/plain": [
       "[5, 1, 3, 9, 7, 2, 4]"
      ]
     },
     "execution_count": 80,
     "metadata": {},
     "output_type": "execute_result"
    }
   ],
   "source": [
    "a"
   ]
  },
  {
   "cell_type": "code",
   "execution_count": 87,
   "id": "60cdc569",
   "metadata": {},
   "outputs": [
    {
     "data": {
      "text/plain": [
       "'\\nn = 123, temp = \"\"\\n\\nInitial Call - \\n    last_digit = 3\\n    temp = \"3\"\\n    reverse_number(12, \"3\")\\n    \\nRecursive Call 1 - \\n    last_digit = 2\\n    temp = \"32\"\\n    reverse_number(1, \"32\")\\n    \\nRecursive Call 2 - \\n    last_digit = 1\\n    temp = \"321\"\\n    \\n'"
      ]
     },
     "execution_count": 87,
     "metadata": {},
     "output_type": "execute_result"
    }
   ],
   "source": [
    "def reverse_number(n, temp = \"\"):    \n",
    "    last_digit = n % 10\n",
    "    temp += str(last_digit)\n",
    "    \n",
    "    if n // 10 == 0:\n",
    "        return temp\n",
    "    else:\n",
    "        return reverse_number(n // 10, temp)\n",
    "\n",
    "\n",
    "'''\n",
    "n = 123, temp = \"\"\n",
    "\n",
    "Initial Call - \n",
    "    last_digit = 3\n",
    "    temp = \"3\"\n",
    "    reverse_number(12, \"3\")\n",
    "    \n",
    "Recursive Call 1 - \n",
    "    last_digit = 2\n",
    "    temp = \"32\"\n",
    "    reverse_number(1, \"32\")\n",
    "    \n",
    "Recursive Call 2 - \n",
    "    last_digit = 1\n",
    "    temp = \"321\"\n",
    "    \n",
    "'''"
   ]
  },
  {
   "cell_type": "code",
   "execution_count": 88,
   "id": "e9173a3c",
   "metadata": {},
   "outputs": [
    {
     "data": {
      "text/plain": [
       "'54321'"
      ]
     },
     "execution_count": 88,
     "metadata": {},
     "output_type": "execute_result"
    }
   ],
   "source": [
    "reverse_number(12345)"
   ]
  },
  {
   "cell_type": "code",
   "execution_count": 89,
   "id": "707812e2",
   "metadata": {},
   "outputs": [
    {
     "data": {
      "text/plain": [
       "'001'"
      ]
     },
     "execution_count": 89,
     "metadata": {},
     "output_type": "execute_result"
    }
   ],
   "source": [
    "reverse_number(100)"
   ]
  },
  {
   "cell_type": "code",
   "execution_count": null,
   "id": "175cdaec",
   "metadata": {},
   "outputs": [],
   "source": []
  }
 ],
 "metadata": {
  "kernelspec": {
   "display_name": "Python 3 (ipykernel)",
   "language": "python",
   "name": "python3"
  },
  "language_info": {
   "codemirror_mode": {
    "name": "ipython",
    "version": 3
   },
   "file_extension": ".py",
   "mimetype": "text/x-python",
   "name": "python",
   "nbconvert_exporter": "python",
   "pygments_lexer": "ipython3",
   "version": "3.9.5"
  }
 },
 "nbformat": 4,
 "nbformat_minor": 5
}
