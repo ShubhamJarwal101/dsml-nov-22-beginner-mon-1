{
 "cells": [
  {
   "cell_type": "code",
   "execution_count": 1,
   "id": "eade1adf",
   "metadata": {},
   "outputs": [],
   "source": [
    "def random(n):\n",
    "    x = n # 1 operation\n",
    "    \n",
    "    for i in range(x):\n",
    "        for j in range(x):\n",
    "            # n^2 operations\n",
    "            if x == 10:\n",
    "                break"
   ]
  },
  {
   "cell_type": "code",
   "execution_count": 2,
   "id": "ecf23ac6",
   "metadata": {},
   "outputs": [
    {
     "data": {
      "text/plain": [
       "'\\nn = 5\\n\\nx = 5\\n\\ni = 0\\n    j = 0\\n        -> x == n (5 == 5) - TRUE\\n        -> break\\n        \\ni = 1\\n    j = 0\\n        -> x == n (5 == 5) - TRUE\\n        -> break\\n        \\ni == 2\\n.\\n.\\n.\\n'"
      ]
     },
     "execution_count": 2,
     "metadata": {},
     "output_type": "execute_result"
    }
   ],
   "source": [
    "def random(n):\n",
    "    x = n # 1 operation\n",
    "    \n",
    "    # n operations\n",
    "    for i in range(x):\n",
    "        for j in range(x): # This loop will break in only 1 iteration!\n",
    "            if x == n: # TRUE\n",
    "                break\n",
    "                \n",
    "                \n",
    "'''\n",
    "n = 5\n",
    "\n",
    "x = 5\n",
    "\n",
    "i = 0\n",
    "    j = 0\n",
    "        -> x == n (5 == 5) - TRUE\n",
    "        -> break\n",
    "        \n",
    "i = 1\n",
    "    j = 0\n",
    "        -> x == n (5 == 5) - TRUE\n",
    "        -> break\n",
    "        \n",
    "i == 2\n",
    ".\n",
    ".\n",
    ".\n",
    "'''"
   ]
  },
  {
   "cell_type": "code",
   "execution_count": 3,
   "id": "67df86b5",
   "metadata": {},
   "outputs": [
    {
     "name": "stdout",
     "output_type": "stream",
     "text": [
      "random\n"
     ]
    }
   ],
   "source": [
    "if 5:\n",
    "    print(\"random\")"
   ]
  },
  {
   "cell_type": "code",
   "execution_count": 4,
   "id": "c699eaf4",
   "metadata": {},
   "outputs": [],
   "source": [
    "if 0:\n",
    "    print(\"random\")"
   ]
  },
  {
   "cell_type": "code",
   "execution_count": 10,
   "id": "4be7ac0b",
   "metadata": {},
   "outputs": [],
   "source": [
    "def bubble_sort_unoptimized(a):\n",
    "    count = 0\n",
    "    \n",
    "    for i in range(len(a)):\n",
    "        for j in range(len(a) - i - 1):\n",
    "            count += 1\n",
    "            if a[j] > a[j+1]:\n",
    "                a[j], a[j+1] = a[j+1], a[j]\n",
    "    \n",
    "    print(f\"I ran {count} times!\")\n",
    "    \n",
    "    return a"
   ]
  },
  {
   "cell_type": "code",
   "execution_count": 11,
   "id": "022942d9",
   "metadata": {},
   "outputs": [],
   "source": [
    "def bubble_sort_optimized(a):\n",
    "    count = 0\n",
    "    \n",
    "    for i in range(len(a)):\n",
    "        is_sorted = True\n",
    "        \n",
    "        for j in range(len(a) - i - 1):\n",
    "            count += 1\n",
    "            if a[j] > a[j+1]:\n",
    "                is_sorted = False\n",
    "                a[j], a[j+1] = a[j+1], a[j]\n",
    "                \n",
    "        if is_sorted:\n",
    "            break\n",
    "                \n",
    "    print(f\"I ran {count} times!\")\n",
    "    \n",
    "    return a"
   ]
  },
  {
   "cell_type": "code",
   "execution_count": 12,
   "id": "304dc974",
   "metadata": {},
   "outputs": [
    {
     "name": "stdout",
     "output_type": "stream",
     "text": [
      "I ran 45 times!\n"
     ]
    },
    {
     "data": {
      "text/plain": [
       "[1, 2, 3, 4, 5, 6, 7, 8, 9, 10]"
      ]
     },
     "execution_count": 12,
     "metadata": {},
     "output_type": "execute_result"
    }
   ],
   "source": [
    "bubble_sort_unoptimized([1,2,3,4,5,6,7,8,9,10])"
   ]
  },
  {
   "cell_type": "code",
   "execution_count": 13,
   "id": "157bcaf9",
   "metadata": {},
   "outputs": [
    {
     "name": "stdout",
     "output_type": "stream",
     "text": [
      "I ran 9 times!\n"
     ]
    },
    {
     "data": {
      "text/plain": [
       "[1, 2, 3, 4, 5, 6, 7, 8, 9, 10]"
      ]
     },
     "execution_count": 13,
     "metadata": {},
     "output_type": "execute_result"
    }
   ],
   "source": [
    "bubble_sort_optimized([1,2,3,4,5,6,7,8,9,10])"
   ]
  },
  {
   "cell_type": "code",
   "execution_count": 14,
   "id": "ea2ade4f",
   "metadata": {},
   "outputs": [
    {
     "name": "stdout",
     "output_type": "stream",
     "text": [
      "I ran 15 times!\n"
     ]
    },
    {
     "data": {
      "text/plain": [
       "[2, 4, 6, 8, 10, 12]"
      ]
     },
     "execution_count": 14,
     "metadata": {},
     "output_type": "execute_result"
    }
   ],
   "source": [
    "bubble_sort_unoptimized([2,4,6,8,12,10])"
   ]
  },
  {
   "cell_type": "code",
   "execution_count": 15,
   "id": "e09fa054",
   "metadata": {},
   "outputs": [
    {
     "name": "stdout",
     "output_type": "stream",
     "text": [
      "I ran 9 times!\n"
     ]
    },
    {
     "data": {
      "text/plain": [
       "[2, 4, 6, 8, 10, 12]"
      ]
     },
     "execution_count": 15,
     "metadata": {},
     "output_type": "execute_result"
    }
   ],
   "source": [
    "bubble_sort_optimized([2,4,6,8,12,10])"
   ]
  },
  {
   "cell_type": "code",
   "execution_count": 16,
   "id": "b09cd373",
   "metadata": {},
   "outputs": [],
   "source": [
    "def bubble_sort_visual_1(a):\n",
    "    print(f\"{a}\")\n",
    "    \n",
    "    for i in range(len(a)):\n",
    "        for j in range(len(a) - i - 1):\n",
    "            if a[j] > a[j+1]:\n",
    "                a[j], a[j+1] = a[j+1], a[j]\n",
    "            \n",
    "            print(f\"\\t{a}\")\n",
    "        \n",
    "        print(f\"{a}\")\n",
    "        print(\"-\"*25)\n",
    "                \n",
    "    return a"
   ]
  },
  {
   "cell_type": "code",
   "execution_count": 18,
   "id": "6a4c6622",
   "metadata": {},
   "outputs": [],
   "source": [
    "def bubble_sort_visual_2(a):\n",
    "    print(f\"{a}\")\n",
    "    \n",
    "    for i in range(len(a)):\n",
    "        is_sorted = True\n",
    "        \n",
    "        for j in range(len(a) - i - 1):\n",
    "            if a[j] > a[j+1]:\n",
    "                is_sorted = False\n",
    "                a[j], a[j+1] = a[j+1], a[j]\n",
    "            \n",
    "            print(f\"\\t{a}\")\n",
    "        \n",
    "        print(f\"{a}\")\n",
    "        print(\"-\"*25)\n",
    "        \n",
    "        if is_sorted:\n",
    "            break\n",
    "                \n",
    "    return a"
   ]
  },
  {
   "cell_type": "code",
   "execution_count": 19,
   "id": "afa91687",
   "metadata": {},
   "outputs": [
    {
     "name": "stdout",
     "output_type": "stream",
     "text": [
      "[2, 4, 6, 8, 12, 10]\n",
      "\t[2, 4, 6, 8, 12, 10]\n",
      "\t[2, 4, 6, 8, 12, 10]\n",
      "\t[2, 4, 6, 8, 12, 10]\n",
      "\t[2, 4, 6, 8, 12, 10]\n",
      "\t[2, 4, 6, 8, 10, 12]\n",
      "[2, 4, 6, 8, 10, 12]\n",
      "-------------------------\n",
      "\t[2, 4, 6, 8, 10, 12]\n",
      "\t[2, 4, 6, 8, 10, 12]\n",
      "\t[2, 4, 6, 8, 10, 12]\n",
      "\t[2, 4, 6, 8, 10, 12]\n",
      "[2, 4, 6, 8, 10, 12]\n",
      "-------------------------\n",
      "\t[2, 4, 6, 8, 10, 12]\n",
      "\t[2, 4, 6, 8, 10, 12]\n",
      "\t[2, 4, 6, 8, 10, 12]\n",
      "[2, 4, 6, 8, 10, 12]\n",
      "-------------------------\n",
      "\t[2, 4, 6, 8, 10, 12]\n",
      "\t[2, 4, 6, 8, 10, 12]\n",
      "[2, 4, 6, 8, 10, 12]\n",
      "-------------------------\n",
      "\t[2, 4, 6, 8, 10, 12]\n",
      "[2, 4, 6, 8, 10, 12]\n",
      "-------------------------\n",
      "[2, 4, 6, 8, 10, 12]\n",
      "-------------------------\n"
     ]
    },
    {
     "data": {
      "text/plain": [
       "[2, 4, 6, 8, 10, 12]"
      ]
     },
     "execution_count": 19,
     "metadata": {},
     "output_type": "execute_result"
    }
   ],
   "source": [
    "bubble_sort_visual_1([2,4,6,8,12,10])"
   ]
  },
  {
   "cell_type": "code",
   "execution_count": 20,
   "id": "4b625fdb",
   "metadata": {},
   "outputs": [
    {
     "name": "stdout",
     "output_type": "stream",
     "text": [
      "[2, 4, 6, 8, 12, 10]\n",
      "\t[2, 4, 6, 8, 12, 10]\n",
      "\t[2, 4, 6, 8, 12, 10]\n",
      "\t[2, 4, 6, 8, 12, 10]\n",
      "\t[2, 4, 6, 8, 12, 10]\n",
      "\t[2, 4, 6, 8, 10, 12]\n",
      "[2, 4, 6, 8, 10, 12]\n",
      "-------------------------\n",
      "\t[2, 4, 6, 8, 10, 12]\n",
      "\t[2, 4, 6, 8, 10, 12]\n",
      "\t[2, 4, 6, 8, 10, 12]\n",
      "\t[2, 4, 6, 8, 10, 12]\n",
      "[2, 4, 6, 8, 10, 12]\n",
      "-------------------------\n"
     ]
    },
    {
     "data": {
      "text/plain": [
       "[2, 4, 6, 8, 10, 12]"
      ]
     },
     "execution_count": 20,
     "metadata": {},
     "output_type": "execute_result"
    }
   ],
   "source": [
    "bubble_sort_visual_2([2,4,6,8,12,10])"
   ]
  },
  {
   "cell_type": "code",
   "execution_count": 21,
   "id": "85eac0f3",
   "metadata": {},
   "outputs": [
    {
     "data": {
      "text/plain": [
       "'\\nOptimized Bubble Sort - \\nO(n^2) -> worst case time complexity\\nOmega(n) -> best case time complexity\\n\\nUnoptimized Bubble Sort - \\nO(n^2)\\nOmega(n^2)\\n'"
      ]
     },
     "execution_count": 21,
     "metadata": {},
     "output_type": "execute_result"
    }
   ],
   "source": [
    "'''\n",
    "Optimized Bubble Sort - \n",
    "O(n^2) -> worst case time complexity\n",
    "Omega(n) -> best case time complexity\n",
    "\n",
    "Unoptimized Bubble Sort - \n",
    "O(n^2)\n",
    "Omega(n^2)\n",
    "'''"
   ]
  },
  {
   "cell_type": "code",
   "execution_count": 22,
   "id": "450602ee",
   "metadata": {},
   "outputs": [],
   "source": [
    "def selection_sort(a):\n",
    "    for i in range(len(a) - 1):\n",
    "        current_min = i\n",
    "        \n",
    "        for j in range(i + 1, len(a)):\n",
    "            if a[j] < a[current_min]:\n",
    "                current_min = j\n",
    "        \n",
    "        if i != current_min:\n",
    "            a[i], a[current_min] = a[current_min], a[i]\n",
    "    \n",
    "    return a"
   ]
  },
  {
   "cell_type": "code",
   "execution_count": 23,
   "id": "d510cb54",
   "metadata": {},
   "outputs": [
    {
     "data": {
      "text/plain": [
       "[1, 2, 3, 4, 5, 8, 9]"
      ]
     },
     "execution_count": 23,
     "metadata": {},
     "output_type": "execute_result"
    }
   ],
   "source": [
    "selection_sort([2,8,5,3,9,4,1])"
   ]
  },
  {
   "cell_type": "code",
   "execution_count": 24,
   "id": "bb9084a3",
   "metadata": {},
   "outputs": [
    {
     "data": {
      "text/plain": [
       "[-3, -1, 3, 4, 5, 9]"
      ]
     },
     "execution_count": 24,
     "metadata": {},
     "output_type": "execute_result"
    }
   ],
   "source": [
    "selection_sort([9,5,3,4,-3,-1])"
   ]
  },
  {
   "cell_type": "code",
   "execution_count": 25,
   "id": "6b7b0481",
   "metadata": {},
   "outputs": [
    {
     "data": {
      "text/plain": [
       "'\\nTime Complexity ->\\n\\nn-1 + n-2 + n-3 ...... + 1 -> n(n-1)/2\\n\\nO(n^2)\\nOmega(n^2)\\n'"
      ]
     },
     "execution_count": 25,
     "metadata": {},
     "output_type": "execute_result"
    }
   ],
   "source": [
    "'''\n",
    "Time Complexity ->\n",
    "\n",
    "n-1 + n-2 + n-3 ...... + 1 -> n(n-1)/2\n",
    "\n",
    "O(n^2)\n",
    "Omega(n^2)\n",
    "'''"
   ]
  },
  {
   "cell_type": "code",
   "execution_count": 26,
   "id": "e5afeae9",
   "metadata": {},
   "outputs": [],
   "source": [
    "def insertion_sort(a):\n",
    "    for i in range(1, len(a)):\n",
    "        index_to_insert = i\n",
    "        j = i - 1\n",
    "        \n",
    "        while j >= 0:\n",
    "            if a[j] < a[index_to_insert]:\n",
    "                break\n",
    "                \n",
    "            a[j], a[index_to_insert] = a[index_to_insert], a[j]\n",
    "            index_to_insert = j\n",
    "            j -= 1\n",
    "    \n",
    "    return a"
   ]
  },
  {
   "cell_type": "code",
   "execution_count": 27,
   "id": "b44b0338",
   "metadata": {},
   "outputs": [
    {
     "data": {
      "text/plain": [
       "[1, 2, 3, 4, 5]"
      ]
     },
     "execution_count": 27,
     "metadata": {},
     "output_type": "execute_result"
    }
   ],
   "source": [
    "insertion_sort([4,5,1,3,2])"
   ]
  },
  {
   "cell_type": "code",
   "execution_count": null,
   "id": "5af69e4b",
   "metadata": {},
   "outputs": [],
   "source": []
  }
 ],
 "metadata": {
  "kernelspec": {
   "display_name": "Python 3 (ipykernel)",
   "language": "python",
   "name": "python3"
  },
  "language_info": {
   "codemirror_mode": {
    "name": "ipython",
    "version": 3
   },
   "file_extension": ".py",
   "mimetype": "text/x-python",
   "name": "python",
   "nbconvert_exporter": "python",
   "pygments_lexer": "ipython3",
   "version": "3.9.5"
  }
 },
 "nbformat": 4,
 "nbformat_minor": 5
}
