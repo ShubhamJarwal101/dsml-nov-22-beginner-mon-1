{
 "cells": [
  {
   "cell_type": "code",
   "execution_count": 2,
   "id": "bce2920c",
   "metadata": {},
   "outputs": [
    {
     "data": {
      "text/plain": [
       "'\\na = [1,2,3,4,5,6]\\n\\nRecursive call 1 - \\n\\nresult = [1,3,5]\\nreturn [1,3,5] + solve([2,4,6]) -> [1,3,5] + [2,6,4] -> [1,3,5,2,6,4]\\n\\n----------\\n\\na = [2,4,6]\\n\\nRecursive call 2 - \\n\\nresult = [2,6]\\nreturn [2,6] + solve([4]) -> [2,6] + [4] -> [2,6,4]\\n\\n----------\\n\\na = [4]\\n\\nRecursive call 3 - \\nreturn [4]\\n'"
      ]
     },
     "execution_count": 2,
     "metadata": {},
     "output_type": "execute_result"
    }
   ],
   "source": [
    "def solve(a):\n",
    "    # Base condition\n",
    "    if len(a) == 1:\n",
    "        return a\n",
    "    \n",
    "    result = a[::2] # Even Indexes\n",
    "    \n",
    "    return result + solve(a[1::2]) # Odd Indexes\n",
    "\n",
    "'''\n",
    "a = [1,2,3,4,5,6]\n",
    "\n",
    "Recursive call 1 - \n",
    "\n",
    "result = [1,3,5]\n",
    "return [1,3,5] + solve([2,4,6]) -> [1,3,5] + [2,6,4] -> [1,3,5,2,6,4]\n",
    "\n",
    "----------\n",
    "\n",
    "a = [2,4,6]\n",
    "\n",
    "Recursive call 2 - \n",
    "\n",
    "result = [2,6]\n",
    "return [2,6] + solve([4]) -> [2,6] + [4] -> [2,6,4]\n",
    "\n",
    "----------\n",
    "\n",
    "a = [4]\n",
    "\n",
    "Recursive call 3 - \n",
    "return [4]\n",
    "'''"
   ]
  },
  {
   "cell_type": "code",
   "execution_count": 3,
   "id": "5869e5b5",
   "metadata": {},
   "outputs": [],
   "source": [
    "a = 5\n",
    "b = 2"
   ]
  },
  {
   "cell_type": "code",
   "execution_count": 4,
   "id": "b2256bac",
   "metadata": {},
   "outputs": [],
   "source": [
    "if a < b:\n",
    "    result = [a, b]\n",
    "else:\n",
    "    result = [b, a]"
   ]
  },
  {
   "cell_type": "code",
   "execution_count": 5,
   "id": "53ecd169",
   "metadata": {},
   "outputs": [
    {
     "data": {
      "text/plain": [
       "[2, 5]"
      ]
     },
     "execution_count": 5,
     "metadata": {},
     "output_type": "execute_result"
    }
   ],
   "source": [
    "result"
   ]
  },
  {
   "cell_type": "code",
   "execution_count": 6,
   "id": "09a566ac",
   "metadata": {},
   "outputs": [
    {
     "data": {
      "text/plain": [
       "'\\nQuestion 1 - \\n\\nGiven two sorted lists A and B, write a function which returns a result.\\nThis result should be a sorted concatenation of both A and B.\\n\\nExample ->\\nINPUT - \\nA = [1,4,5]\\nB = [2,3,6,7,8]\\nResult = [1,2,3,4,5,6,7,8]\\n'"
      ]
     },
     "execution_count": 6,
     "metadata": {},
     "output_type": "execute_result"
    }
   ],
   "source": [
    "'''\n",
    "Question 1 - \n",
    "\n",
    "Given two sorted lists A and B, write a function which returns a result.\n",
    "This result should be a sorted concatenation of both A and B.\n",
    "\n",
    "Example ->\n",
    "INPUT - \n",
    "A = [1,4,5]\n",
    "B = [2,3,6,7,8]\n",
    "Result = [1,2,3,4,5,6,7,8]\n",
    "'''"
   ]
  },
  {
   "cell_type": "code",
   "execution_count": 7,
   "id": "d4a0f3e5",
   "metadata": {},
   "outputs": [],
   "source": [
    "def sorted_merge(a, b):\n",
    "    i, j = 0, 0\n",
    "    \n",
    "    result = []\n",
    "    \n",
    "    while i < len(a) and j < len(b):\n",
    "        if a[i] <= b[j]:\n",
    "            result.append(a[i])\n",
    "            i += 1\n",
    "        else:\n",
    "            result.append(b[j])\n",
    "            j += 1\n",
    "            \n",
    "    if i < len(a):\n",
    "        result += a[i:]\n",
    "    elif j < len(b):\n",
    "        result += b[j:]\n",
    "        \n",
    "    return result"
   ]
  },
  {
   "cell_type": "code",
   "execution_count": 8,
   "id": "0e8da06b",
   "metadata": {},
   "outputs": [],
   "source": [
    "def merge_sort(a):\n",
    "    # BASE CONDITION\n",
    "    if len(a) <= 1:\n",
    "        return a\n",
    "    \n",
    "    # RECURSION PART\n",
    "    n = len(a)\n",
    "    \n",
    "    left = merge_sort(a[:n//2])\n",
    "    right = merge_sort(a[n//2:])\n",
    "    \n",
    "    # MERGING PART\n",
    "    i, j = 0, 0\n",
    "    \n",
    "    result = []\n",
    "    \n",
    "    while i < len(left) and j < len(right):\n",
    "        if left[i] <= right[j]:\n",
    "            result.append(left[i])\n",
    "            i += 1\n",
    "        else:\n",
    "            result.append(right[j])\n",
    "            j += 1\n",
    "            \n",
    "    if i < len(left):\n",
    "        result += left[i:]\n",
    "    elif j < len(right):\n",
    "        result += right[j:]\n",
    "        \n",
    "    return result"
   ]
  },
  {
   "cell_type": "code",
   "execution_count": 9,
   "id": "70faa155",
   "metadata": {},
   "outputs": [
    {
     "data": {
      "text/plain": [
       "[0, 1, 2, 3, 4, 7, 8, 9, 10, 12]"
      ]
     },
     "execution_count": 9,
     "metadata": {},
     "output_type": "execute_result"
    }
   ],
   "source": [
    "merge_sort([4,3,2,8,9,1,0,10,12,7])"
   ]
  },
  {
   "cell_type": "code",
   "execution_count": 1,
   "id": "a568b33a",
   "metadata": {},
   "outputs": [],
   "source": [
    "def solve(a, b):\n",
    "    return a + b"
   ]
  },
  {
   "cell_type": "code",
   "execution_count": null,
   "id": "23cf98da",
   "metadata": {},
   "outputs": [],
   "source": [
    "result = solve(4, 5)"
   ]
  }
 ],
 "metadata": {
  "kernelspec": {
   "display_name": "Python 3 (ipykernel)",
   "language": "python",
   "name": "python3"
  },
  "language_info": {
   "codemirror_mode": {
    "name": "ipython",
    "version": 3
   },
   "file_extension": ".py",
   "mimetype": "text/x-python",
   "name": "python",
   "nbconvert_exporter": "python",
   "pygments_lexer": "ipython3",
   "version": "3.9.5"
  }
 },
 "nbformat": 4,
 "nbformat_minor": 5
}
