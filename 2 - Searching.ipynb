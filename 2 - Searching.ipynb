{
 "cells": [
  {
   "cell_type": "markdown",
   "id": "411d999a",
   "metadata": {},
   "source": [
    "## LINEAR SEARCH"
   ]
  },
  {
   "cell_type": "code",
   "execution_count": 7,
   "id": "6e683e75",
   "metadata": {},
   "outputs": [
    {
     "data": {
      "text/plain": [
       "'\\nQuestion 1 - \\n\\nGiven a list of values and a target element.\\n    - Return the index of the target element if it is present in the list\\n    - If not present, return -1\\n'"
      ]
     },
     "execution_count": 7,
     "metadata": {},
     "output_type": "execute_result"
    }
   ],
   "source": [
    "'''\n",
    "Question 1 - \n",
    "\n",
    "Given a list of values and a target element.\n",
    "    - Return the index of the target element if it is present in the list\n",
    "    - If not present, return -1\n",
    "'''"
   ]
  },
  {
   "cell_type": "code",
   "execution_count": 15,
   "id": "fae61d15",
   "metadata": {},
   "outputs": [],
   "source": [
    "a = [10,20,30,40,50,60,70,80,90,100]\n",
    "target = 50"
   ]
  },
  {
   "cell_type": "code",
   "execution_count": 9,
   "id": "6f9eb753",
   "metadata": {},
   "outputs": [],
   "source": [
    "# Approach 1\n",
    "def linear_search(a, target):\n",
    "    for i in range(len(a)):\n",
    "        if a[i] == target:\n",
    "            return i\n",
    "        \n",
    "    return -1"
   ]
  },
  {
   "cell_type": "code",
   "execution_count": 10,
   "id": "dfec7700",
   "metadata": {},
   "outputs": [
    {
     "data": {
      "text/plain": [
       "4"
      ]
     },
     "execution_count": 10,
     "metadata": {},
     "output_type": "execute_result"
    }
   ],
   "source": [
    "linear_search(a, target)"
   ]
  },
  {
   "cell_type": "code",
   "execution_count": 8,
   "id": "9c7238c4",
   "metadata": {},
   "outputs": [],
   "source": [
    "# Enumerate"
   ]
  },
  {
   "cell_type": "code",
   "execution_count": 46,
   "id": "4c181b2e",
   "metadata": {},
   "outputs": [],
   "source": [
    "a = [10,20,30,40,50]"
   ]
  },
  {
   "cell_type": "code",
   "execution_count": 47,
   "id": "720a6970",
   "metadata": {},
   "outputs": [],
   "source": [
    "enumerated_a = list(enumerate(a))"
   ]
  },
  {
   "cell_type": "code",
   "execution_count": 48,
   "id": "fa3a3ce7",
   "metadata": {},
   "outputs": [
    {
     "data": {
      "text/plain": [
       "[(0, 10), (1, 20), (2, 30), (3, 40), (4, 50)]"
      ]
     },
     "execution_count": 48,
     "metadata": {},
     "output_type": "execute_result"
    }
   ],
   "source": [
    "enumerated_a"
   ]
  },
  {
   "cell_type": "code",
   "execution_count": 17,
   "id": "462de4aa",
   "metadata": {},
   "outputs": [],
   "source": [
    "# Approach 2\n",
    "def linear_search(a, target):\n",
    "    for index, value in enumerate(a):\n",
    "        if value == target:\n",
    "            return index\n",
    "        \n",
    "    return -1"
   ]
  },
  {
   "cell_type": "code",
   "execution_count": 18,
   "id": "c0c84b7b",
   "metadata": {},
   "outputs": [
    {
     "data": {
      "text/plain": [
       "4"
      ]
     },
     "execution_count": 18,
     "metadata": {},
     "output_type": "execute_result"
    }
   ],
   "source": [
    "linear_search(a, target)"
   ]
  },
  {
   "cell_type": "code",
   "execution_count": 20,
   "id": "dd1f179a",
   "metadata": {},
   "outputs": [
    {
     "data": {
      "text/plain": [
       "'\\nlen(a) = n\\nTarget is present at the last index.\\n\\nHow many times will the loop run to reach the target?\\n\\n\"n operations\" in the worst case\\n'"
      ]
     },
     "execution_count": 20,
     "metadata": {},
     "output_type": "execute_result"
    }
   ],
   "source": [
    "'''\n",
    "len(a) = n\n",
    "Target is present at the last index.\n",
    "\n",
    "How many times will the loop run to reach the target?\n",
    "\n",
    "\"n operations\" in the worst case\n",
    "'''"
   ]
  },
  {
   "cell_type": "markdown",
   "id": "2f2e51c9",
   "metadata": {},
   "source": [
    "## Binary Search"
   ]
  },
  {
   "cell_type": "code",
   "execution_count": 21,
   "id": "b1bd4d9e",
   "metadata": {},
   "outputs": [],
   "source": [
    "def binary_search(a, target):\n",
    "    start, end = 0, len(a) - 1\n",
    "    \n",
    "    while start <= end:\n",
    "        mid = (start + end) // 2\n",
    "        \n",
    "        if a[mid] == target:\n",
    "            return mid\n",
    "        elif a[mid] < target:\n",
    "            start = mid + 1\n",
    "        else:\n",
    "            end = mid - 1\n",
    "            \n",
    "    return -1"
   ]
  },
  {
   "cell_type": "code",
   "execution_count": 22,
   "id": "21427544",
   "metadata": {},
   "outputs": [],
   "source": [
    "a = [10,20,30,40,50,60,70,80,90,100]\n",
    "target = 50"
   ]
  },
  {
   "cell_type": "code",
   "execution_count": 25,
   "id": "61e2e0c4",
   "metadata": {},
   "outputs": [
    {
     "data": {
      "text/plain": [
       "0"
      ]
     },
     "execution_count": 25,
     "metadata": {},
     "output_type": "execute_result"
    }
   ],
   "source": [
    "binary_search(a, 10)"
   ]
  },
  {
   "cell_type": "code",
   "execution_count": 31,
   "id": "22e7b676",
   "metadata": {},
   "outputs": [],
   "source": [
    "def linear_search_with_count(a, target):\n",
    "    count = 0\n",
    "    \n",
    "    for index, value in enumerate(a):\n",
    "        count += 1\n",
    "        if value == target:\n",
    "            print(f\"I ran {count} times!\")\n",
    "            return index\n",
    "        \n",
    "    print(f\"I ran {count} times!\")\n",
    "        \n",
    "    return -1"
   ]
  },
  {
   "cell_type": "code",
   "execution_count": 41,
   "id": "e779f83c",
   "metadata": {},
   "outputs": [
    {
     "data": {
      "text/plain": [
       "'\\nnumber of operations = log2(n)\\n'"
      ]
     },
     "execution_count": 41,
     "metadata": {},
     "output_type": "execute_result"
    }
   ],
   "source": [
    "def binary_search_with_count(a, target):\n",
    "    start, end = 0, len(a) - 1\n",
    "    count = 0\n",
    "    \n",
    "    while start <= end:\n",
    "        mid = (start + end) // 2\n",
    "        count += 1\n",
    "        \n",
    "        if a[mid] == target:\n",
    "            print(f\"I ran {count} times!\")\n",
    "            return mid\n",
    "        elif a[mid] < target:\n",
    "            start = mid + 1\n",
    "        else:\n",
    "            end = mid - 1\n",
    "    \n",
    "    print(f\"I ran {count} times!\")\n",
    "            \n",
    "    return -1\n",
    "\n",
    "'''\n",
    "number of operations = log2(n)\n",
    "'''"
   ]
  },
  {
   "cell_type": "code",
   "execution_count": 33,
   "id": "c57e7715",
   "metadata": {},
   "outputs": [],
   "source": [
    "a = [10,20,30,40,50,60,70,80,90,100]\n",
    "target = 70"
   ]
  },
  {
   "cell_type": "code",
   "execution_count": 34,
   "id": "47c64804",
   "metadata": {},
   "outputs": [
    {
     "name": "stdout",
     "output_type": "stream",
     "text": [
      "I ran 7 times!\n"
     ]
    },
    {
     "data": {
      "text/plain": [
       "6"
      ]
     },
     "execution_count": 34,
     "metadata": {},
     "output_type": "execute_result"
    }
   ],
   "source": [
    "linear_search_with_count(a, target)"
   ]
  },
  {
   "cell_type": "code",
   "execution_count": 35,
   "id": "20a49abc",
   "metadata": {},
   "outputs": [
    {
     "name": "stdout",
     "output_type": "stream",
     "text": [
      "I ran 4 times!\n"
     ]
    },
    {
     "data": {
      "text/plain": [
       "6"
      ]
     },
     "execution_count": 35,
     "metadata": {},
     "output_type": "execute_result"
    }
   ],
   "source": [
    "binary_search_with_count(a, target)"
   ]
  },
  {
   "cell_type": "code",
   "execution_count": 36,
   "id": "05c7371f",
   "metadata": {},
   "outputs": [],
   "source": [
    "a = list(range(1,1001))"
   ]
  },
  {
   "cell_type": "code",
   "execution_count": 38,
   "id": "2215647c",
   "metadata": {},
   "outputs": [],
   "source": [
    "# a"
   ]
  },
  {
   "cell_type": "code",
   "execution_count": 39,
   "id": "6e41d627",
   "metadata": {},
   "outputs": [
    {
     "name": "stdout",
     "output_type": "stream",
     "text": [
      "I ran 675 times!\n"
     ]
    },
    {
     "data": {
      "text/plain": [
       "674"
      ]
     },
     "execution_count": 39,
     "metadata": {},
     "output_type": "execute_result"
    }
   ],
   "source": [
    "linear_search_with_count(a, 675)"
   ]
  },
  {
   "cell_type": "code",
   "execution_count": 40,
   "id": "484f92e4",
   "metadata": {},
   "outputs": [
    {
     "name": "stdout",
     "output_type": "stream",
     "text": [
      "I ran 8 times!\n"
     ]
    },
    {
     "data": {
      "text/plain": [
       "674"
      ]
     },
     "execution_count": 40,
     "metadata": {},
     "output_type": "execute_result"
    }
   ],
   "source": [
    "binary_search_with_count(a, 675)"
   ]
  },
  {
   "cell_type": "code",
   "execution_count": 42,
   "id": "99aa27c9",
   "metadata": {},
   "outputs": [],
   "source": [
    "# log2(8 * 10^9) -> 33"
   ]
  },
  {
   "cell_type": "code",
   "execution_count": 44,
   "id": "7fb25180",
   "metadata": {},
   "outputs": [
    {
     "data": {
      "text/plain": [
       "1"
      ]
     },
     "execution_count": 44,
     "metadata": {},
     "output_type": "execute_result"
    }
   ],
   "source": [
    "binary_search([1,2,3,4,5], 2)"
   ]
  },
  {
   "cell_type": "code",
   "execution_count": null,
   "id": "c134f0c4",
   "metadata": {},
   "outputs": [],
   "source": []
  }
 ],
 "metadata": {
  "kernelspec": {
   "display_name": "Python 3 (ipykernel)",
   "language": "python",
   "name": "python3"
  },
  "language_info": {
   "codemirror_mode": {
    "name": "ipython",
    "version": 3
   },
   "file_extension": ".py",
   "mimetype": "text/x-python",
   "name": "python",
   "nbconvert_exporter": "python",
   "pygments_lexer": "ipython3",
   "version": "3.9.5"
  }
 },
 "nbformat": 4,
 "nbformat_minor": 5
}
