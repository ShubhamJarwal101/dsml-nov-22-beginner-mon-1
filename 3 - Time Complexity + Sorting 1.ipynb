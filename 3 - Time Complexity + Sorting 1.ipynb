{
 "cells": [
  {
   "cell_type": "code",
   "execution_count": 3,
   "id": "3effa175",
   "metadata": {},
   "outputs": [
    {
     "data": {
      "text/plain": [
       "'\\nCost Function -> A function to define number of operations.\\nCost(foo()) = 3 (Constant)\\n'"
      ]
     },
     "execution_count": 3,
     "metadata": {},
     "output_type": "execute_result"
    }
   ],
   "source": [
    "# Example 1\n",
    "\n",
    "def foo():\n",
    "    x = 1 # Operation 1\n",
    "    y = 2 # Operation 2\n",
    "    z = 3 # Operation 3\n",
    "    \n",
    "'''\n",
    "Cost Function -> A function to define number of operations.\n",
    "Cost(foo()) = 3 (Constant)\n",
    "'''"
   ]
  },
  {
   "cell_type": "code",
   "execution_count": 4,
   "id": "88f2ea2f",
   "metadata": {},
   "outputs": [
    {
     "data": {
      "text/plain": [
       "'\\nCost(foo()) = 3 (Constant)\\n'"
      ]
     },
     "execution_count": 4,
     "metadata": {},
     "output_type": "execute_result"
    }
   ],
   "source": [
    "# Example 2\n",
    "\n",
    "def foo(n):\n",
    "    x = 1 # Operation 1\n",
    "    y = 2 # Operation 2\n",
    "    z = 3 # Operation 3\n",
    "    \n",
    "'''\n",
    "Cost(foo()) = 3 (Constant)\n",
    "'''"
   ]
  },
  {
   "cell_type": "code",
   "execution_count": 5,
   "id": "0f95d62b",
   "metadata": {},
   "outputs": [
    {
     "data": {
      "text/plain": [
       "'\\nCost(foo()) = n (Linear)\\n\\nfoo(5) - 5 operations\\nfoo(100) - 100 operations\\n'"
      ]
     },
     "execution_count": 5,
     "metadata": {},
     "output_type": "execute_result"
    }
   ],
   "source": [
    "# Example 3\n",
    "\n",
    "def foo(n):\n",
    "    for i in range(n):\n",
    "        print(i) # Operation n\n",
    "        \n",
    "'''\n",
    "Cost(foo()) = n (Linear)\n",
    "\n",
    "foo(5) - 5 operations\n",
    "foo(100) - 100 operations\n",
    "'''"
   ]
  },
  {
   "cell_type": "code",
   "execution_count": 6,
   "id": "47ae984d",
   "metadata": {},
   "outputs": [
    {
     "data": {
      "text/plain": [
       "'\\nCost(foo()) = n + 2 (Linear)\\n'"
      ]
     },
     "execution_count": 6,
     "metadata": {},
     "output_type": "execute_result"
    }
   ],
   "source": [
    "# Example 4\n",
    "\n",
    "def foo(n):\n",
    "    x = 2 # Operation 1\n",
    "    y = 3 # Operation 2\n",
    "    \n",
    "    for i in range(n):\n",
    "        print(i) # Operation n\n",
    "\n",
    "'''\n",
    "Cost(foo()) = n + 2 (Linear)\n",
    "'''"
   ]
  },
  {
   "cell_type": "code",
   "execution_count": 7,
   "id": "2a88842e",
   "metadata": {},
   "outputs": [
    {
     "data": {
      "text/plain": [
       "'\\nCost(foo()) = n^2 (Exponential)\\n'"
      ]
     },
     "execution_count": 7,
     "metadata": {},
     "output_type": "execute_result"
    }
   ],
   "source": [
    "# Example 5\n",
    "\n",
    "def foo(n):\n",
    "    for i in range(n):\n",
    "        for j in range(n):\n",
    "            print(i) # Operation n^2\n",
    "            \n",
    "'''\n",
    "Cost(foo()) = n^2 (Exponential)\n",
    "'''"
   ]
  },
  {
   "cell_type": "code",
   "execution_count": 8,
   "id": "75db0fdf",
   "metadata": {},
   "outputs": [
    {
     "data": {
      "text/plain": [
       "'\\nCost(foo()) = n^2 + n\\n'"
      ]
     },
     "execution_count": 8,
     "metadata": {},
     "output_type": "execute_result"
    }
   ],
   "source": [
    "# Example 6\n",
    "\n",
    "def foo(n):\n",
    "    for i in range(n):\n",
    "        for j in range(n):\n",
    "            print(i) # Operation n^2\n",
    "            \n",
    "    for k in range(n):\n",
    "        print(k) # Operation n\n",
    "        \n",
    "'''\n",
    "Cost(foo()) = n^2 + n\n",
    "'''"
   ]
  },
  {
   "cell_type": "code",
   "execution_count": 11,
   "id": "cbc6491f",
   "metadata": {},
   "outputs": [],
   "source": [
    "def bubble_sort(a):\n",
    "    for i in range(len(a)):\n",
    "        for j in range(len(a) - i - 1):\n",
    "            if a[j] > a[j+1]:\n",
    "                a[j], a[j+1] = a[j+1], a[j]\n",
    "                \n",
    "    return a"
   ]
  },
  {
   "cell_type": "code",
   "execution_count": 12,
   "id": "cc28e9d7",
   "metadata": {},
   "outputs": [],
   "source": [
    "a = [1, 5, 2, 4, 7, 3]"
   ]
  },
  {
   "cell_type": "code",
   "execution_count": 13,
   "id": "340f9ce7",
   "metadata": {},
   "outputs": [
    {
     "data": {
      "text/plain": [
       "[1, 2, 3, 4, 5, 7]"
      ]
     },
     "execution_count": 13,
     "metadata": {},
     "output_type": "execute_result"
    }
   ],
   "source": [
    "bubble_sort(a)"
   ]
  },
  {
   "cell_type": "code",
   "execution_count": 14,
   "id": "9f4cd502",
   "metadata": {},
   "outputs": [],
   "source": [
    "# Shortcoming -> Bubble sort will run n^2 times even if the list is already sorted!"
   ]
  },
  {
   "cell_type": "code",
   "execution_count": 17,
   "id": "898f227d",
   "metadata": {},
   "outputs": [],
   "source": [
    "def bubble_sort_visual(a):\n",
    "    print(f\"{a}\")\n",
    "    \n",
    "    for i in range(len(a)):\n",
    "        for j in range(len(a) - i - 1):\n",
    "            if a[j] > a[j+1]:\n",
    "                a[j], a[j+1] = a[j+1], a[j]\n",
    "            \n",
    "            print(f\"\\t{a}\")\n",
    "        \n",
    "        print(f\"{a}\")\n",
    "        print(\"-\"*25)\n",
    "                \n",
    "    return a"
   ]
  },
  {
   "cell_type": "code",
   "execution_count": 18,
   "id": "f3375e37",
   "metadata": {},
   "outputs": [
    {
     "name": "stdout",
     "output_type": "stream",
     "text": [
      "[1, 5, 2, 4, 7, 3]\n",
      "\t[1, 5, 2, 4, 7, 3]\n",
      "\t[1, 2, 5, 4, 7, 3]\n",
      "\t[1, 2, 4, 5, 7, 3]\n",
      "\t[1, 2, 4, 5, 7, 3]\n",
      "\t[1, 2, 4, 5, 3, 7]\n",
      "[1, 2, 4, 5, 3, 7]\n",
      "-------------------------\n",
      "\t[1, 2, 4, 5, 3, 7]\n",
      "\t[1, 2, 4, 5, 3, 7]\n",
      "\t[1, 2, 4, 5, 3, 7]\n",
      "\t[1, 2, 4, 3, 5, 7]\n",
      "[1, 2, 4, 3, 5, 7]\n",
      "-------------------------\n",
      "\t[1, 2, 4, 3, 5, 7]\n",
      "\t[1, 2, 4, 3, 5, 7]\n",
      "\t[1, 2, 3, 4, 5, 7]\n",
      "[1, 2, 3, 4, 5, 7]\n",
      "-------------------------\n",
      "\t[1, 2, 3, 4, 5, 7]\n",
      "\t[1, 2, 3, 4, 5, 7]\n",
      "[1, 2, 3, 4, 5, 7]\n",
      "-------------------------\n",
      "\t[1, 2, 3, 4, 5, 7]\n",
      "[1, 2, 3, 4, 5, 7]\n",
      "-------------------------\n",
      "[1, 2, 3, 4, 5, 7]\n",
      "-------------------------\n"
     ]
    },
    {
     "data": {
      "text/plain": [
       "[1, 2, 3, 4, 5, 7]"
      ]
     },
     "execution_count": 18,
     "metadata": {},
     "output_type": "execute_result"
    }
   ],
   "source": [
    "bubble_sort_visual([1, 5, 2, 4, 7, 3])"
   ]
  },
  {
   "cell_type": "code",
   "execution_count": 19,
   "id": "5155cfe8",
   "metadata": {},
   "outputs": [
    {
     "name": "stdout",
     "output_type": "stream",
     "text": [
      "[1, 2, 3, 4, 5]\n",
      "\t[1, 2, 3, 4, 5]\n",
      "\t[1, 2, 3, 4, 5]\n",
      "\t[1, 2, 3, 4, 5]\n",
      "\t[1, 2, 3, 4, 5]\n",
      "[1, 2, 3, 4, 5]\n",
      "-------------------------\n",
      "\t[1, 2, 3, 4, 5]\n",
      "\t[1, 2, 3, 4, 5]\n",
      "\t[1, 2, 3, 4, 5]\n",
      "[1, 2, 3, 4, 5]\n",
      "-------------------------\n",
      "\t[1, 2, 3, 4, 5]\n",
      "\t[1, 2, 3, 4, 5]\n",
      "[1, 2, 3, 4, 5]\n",
      "-------------------------\n",
      "\t[1, 2, 3, 4, 5]\n",
      "[1, 2, 3, 4, 5]\n",
      "-------------------------\n",
      "[1, 2, 3, 4, 5]\n",
      "-------------------------\n"
     ]
    },
    {
     "data": {
      "text/plain": [
       "[1, 2, 3, 4, 5]"
      ]
     },
     "execution_count": 19,
     "metadata": {},
     "output_type": "execute_result"
    }
   ],
   "source": [
    "bubble_sort_visual([1,2,3,4,5])"
   ]
  },
  {
   "cell_type": "code",
   "execution_count": 20,
   "id": "c9e12882",
   "metadata": {},
   "outputs": [
    {
     "data": {
      "text/plain": [
       "'\\nHOMEWORK - \\nFigure out a way to optimise bubble sort so that it only requires \"n operations\" if the list is already sorted!\\n'"
      ]
     },
     "execution_count": 20,
     "metadata": {},
     "output_type": "execute_result"
    }
   ],
   "source": [
    "'''\n",
    "HOMEWORK - \n",
    "Figure out a way to optimise bubble sort so that it only requires \"n operations\" if the list is already sorted!\n",
    "'''"
   ]
  },
  {
   "cell_type": "code",
   "execution_count": null,
   "id": "31cd3601",
   "metadata": {},
   "outputs": [],
   "source": []
  }
 ],
 "metadata": {
  "kernelspec": {
   "display_name": "Python 3 (ipykernel)",
   "language": "python",
   "name": "python3"
  },
  "language_info": {
   "codemirror_mode": {
    "name": "ipython",
    "version": 3
   },
   "file_extension": ".py",
   "mimetype": "text/x-python",
   "name": "python",
   "nbconvert_exporter": "python",
   "pygments_lexer": "ipython3",
   "version": "3.9.5"
  }
 },
 "nbformat": 4,
 "nbformat_minor": 5
}
